{
 "cells": [
  {
   "cell_type": "code",
   "execution_count": 15,
   "metadata": {},
   "outputs": [
    {
     "name": "stdout",
     "output_type": "stream",
     "text": [
      "x: 0b101\n",
      "y: 0b0\n",
      "Result: 0b101\n"
     ]
    }
   ],
   "source": [
    "from numpy.typing import NDArray\n",
    "from typing import Any\n",
    "\n",
    "import numpy as np\n",
    "\n",
    "def shift_bits(x: int, y: int, num_bits: int, start_pos: int) -> NDArray[Any]:\n",
    "    # Create a mask to extract the bits from x\n",
    "    mask = ((1 << num_bits) - 1) << start_pos\n",
    "    \n",
    "    # Extract the bits from x\n",
    "    bits_to_shift = (x & mask) >> start_pos\n",
    "    \n",
    "    # Clear the corresponding bits in y\n",
    "    y &= ~(((1 << num_bits) - 1) << start_pos)\n",
    "    \n",
    "    # Combine the extracted bits with y\n",
    "    y |= bits_to_shift << start_pos\n",
    "    \n",
    "    return y\n",
    "\n",
    "# Example usage\n",
    "x = 5\n",
    "y = 0b0\n",
    "\n",
    "# Shift 4 bits from x to y, starting at position 4\n",
    "result = shift_bits(x, y, 4, 0)\n",
    "\n",
    "print(f\"x: {bin(x)}\")\n",
    "print(f\"y: {bin(y)}\")\n",
    "print(f\"Result: {bin(result)}\")\n"
   ]
  },
  {
   "cell_type": "code",
   "execution_count": null,
   "metadata": {},
   "outputs": [],
   "source": [
    "LOCK = 0\n",
    "MOVE = 1\n",
    "SCORE = 2\n",
    "FLAG = 3\n",
    "HEIGHT = 4\n",
    "\n",
    "\n",
    "def make_tt(size: int, rnd: np.random.Generator) -> tuple[Any, Any]:\n",
    "    tt_lck = np.zeros((size,), dtype=np.uint64) # hash key\n",
    "    tt_mov = np.zeros((size, 2, 2), dtype=np.uint8) # (type) number\n",
    "    tt_scr = np.zeros((size,), dtype=np.float16) # score\n",
    "    tt_flg = np.zeros((size,), dtype=np.uint8) # type of score\n",
    "    tt_hgt = np.zeros((size,), dtype=np.uint64) # depth recorded\n",
    "    tt_wrt = np.zeros((size,), dtype=np.bool_) # who moved?\n",
    "    r_mat = rnd.integers(0, np.iinfo(tt_lck.dtype).max, (9, 9, 2)) # random integers\n",
    "    tt = (tt_lck, tt_mov, tt_scr, tt_flg, tt_hgt, tt_wrt)\n",
    "    return r_mat, tt\n",
    "\n",
    "\n",
    "def enc_brd(brd: Mat, r_mat: NDArray[Any], tt: tuple[NDArray[Any], ...]) -> int:\n",
    "    hsh = 0\n",
    "    for y in range(brd.shape[0]):\n",
    "        for x in range(brd.shape[1]):\n",
    "            if np.any(brd[:, y, x]):\n",
    "                wrt = brd[0, y, x]\n",
    "                hsh ^= r_mat[y, x, wrt]\n",
    "\n",
    "\n",
    "def rtt(idx: int, tt: TT) -> NDArray[Any]:\n",
    "    ...\n",
    "\n",
    "\n",
    "def wtt(idx: int, dta: NDArray[Any], tt: TT) -> bool:\n",
    "    ..."
   ]
  },
  {
   "cell_type": "code",
   "execution_count": 18,
   "metadata": {},
   "outputs": [
    {
     "data": {
      "text/plain": [
       "np.float64(1.7976931348623157e+308)"
      ]
     },
     "execution_count": 18,
     "metadata": {},
     "output_type": "execute_result"
    }
   ],
   "source": [
    "from numpy import finfo\n",
    "\n",
    "finfo(np.float64).max"
   ]
  },
  {
   "cell_type": "code",
   "execution_count": 21,
   "metadata": {},
   "outputs": [
    {
     "ename": "TypeError",
     "evalue": "zeros() missing required argument 'shape' (pos 0)",
     "output_type": "error",
     "traceback": [
      "\u001b[1;31m---------------------------------------------------------------------------\u001b[0m",
      "\u001b[1;31mTypeError\u001b[0m                                 Traceback (most recent call last)",
      "Cell \u001b[1;32mIn[21], line 1\u001b[0m\n\u001b[1;32m----> 1\u001b[0m np\u001b[38;5;241m.\u001b[39mzeros()\n",
      "\u001b[1;31mTypeError\u001b[0m: zeros() missing required argument 'shape' (pos 0)"
     ]
    }
   ],
   "source": [
    "np.zeros()"
   ]
  }
 ],
 "metadata": {
  "kernelspec": {
   "display_name": "jor",
   "language": "python",
   "name": "python3"
  },
  "language_info": {
   "codemirror_mode": {
    "name": "ipython",
    "version": 3
   },
   "file_extension": ".py",
   "mimetype": "text/x-python",
   "name": "python",
   "nbconvert_exporter": "python",
   "pygments_lexer": "ipython3",
   "version": "3.12.6"
  }
 },
 "nbformat": 4,
 "nbformat_minor": 2
}
