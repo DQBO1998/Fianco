{
 "cells": [
  {
   "cell_type": "code",
   "execution_count": 15,
   "metadata": {},
   "outputs": [
    {
     "name": "stdout",
     "output_type": "stream",
     "text": [
      "x: 0b101\n",
      "y: 0b0\n",
      "Result: 0b101\n"
     ]
    }
   ],
   "source": [
    "from numpy.typing import NDArray\n",
    "from typing import Any\n",
    "\n",
    "import numpy as np\n",
    "\n",
    "def shift_bits(x: int, y: int, num_bits: int, start_pos: int) -> NDArray[Any]:\n",
    "    # Create a mask to extract the bits from x\n",
    "    mask = ((1 << num_bits) - 1) << start_pos\n",
    "    \n",
    "    # Extract the bits from x\n",
    "    bits_to_shift = (x & mask) >> start_pos\n",
    "    \n",
    "    # Clear the corresponding bits in y\n",
    "    y &= ~(((1 << num_bits) - 1) << start_pos)\n",
    "    \n",
    "    # Combine the extracted bits with y\n",
    "    y |= bits_to_shift << start_pos\n",
    "    \n",
    "    return y\n",
    "\n",
    "# Example usage\n",
    "x = 5\n",
    "y = 0b0\n",
    "\n",
    "# Shift 4 bits from x to y, starting at position 4\n",
    "result = shift_bits(x, y, 4, 0)\n",
    "\n",
    "print(f\"x: {bin(x)}\")\n",
    "print(f\"y: {bin(y)}\")\n",
    "print(f\"Result: {bin(result)}\")\n"
   ]
  },
  {
   "cell_type": "code",
   "execution_count": null,
   "metadata": {},
   "outputs": [],
   "source": [
    "LOCK = 0\n",
    "MOVE = 1\n",
    "SCORE = 2\n",
    "FLAG = 3\n",
    "HEIGHT = 4\n",
    "\n",
    "\n",
    "def make_tt(size: int, rnd: np.random.Generator) -> tuple[Any, Any]:\n",
    "    tt_lck = np.zeros((size,), dtype=np.uint64) # hash key\n",
    "    tt_mov = np.zeros((size, 2, 2), dtype=np.uint8) # (type) number\n",
    "    tt_scr = np.zeros((size,), dtype=np.float16) # score\n",
    "    tt_flg = np.zeros((size,), dtype=np.uint8) # type of score\n",
    "    tt_hgt = np.zeros((size,), dtype=np.uint64) # depth recorded\n",
    "    tt_wrt = np.zeros((size,), dtype=np.bool_) # who moved?\n",
    "    r_mat = rnd.integers(0, np.iinfo(tt_lck.dtype).max, (9, 9, 2)) # random integers\n",
    "    tt = (tt_lck, tt_mov, tt_scr, tt_flg, tt_hgt, tt_wrt)\n",
    "    return r_mat, tt\n",
    "\n",
    "\n",
    "def enc_brd(brd: Mat, r_mat: NDArray[Any], tt: tuple[NDArray[Any], ...]) -> int:\n",
    "    hsh = 0\n",
    "    for y in range(brd.shape[0]):\n",
    "        for x in range(brd.shape[1]):\n",
    "            if np.any(brd[:, y, x]):\n",
    "                wrt = brd[0, y, x]\n",
    "                hsh ^= r_mat[y, x, wrt]\n",
    "\n",
    "\n",
    "def rtt(idx: int, tt: TT) -> NDArray[Any]:\n",
    "    ...\n",
    "\n",
    "\n",
    "def wtt(idx: int, dta: NDArray[Any], tt: TT) -> bool:\n",
    "    ..."
   ]
  },
  {
   "cell_type": "code",
   "execution_count": 38,
   "metadata": {},
   "outputs": [
    {
     "data": {
      "text/plain": [
       "array([[0, 8],\n",
       "       [1, 7]], dtype=uint8)"
      ]
     },
     "execution_count": 38,
     "metadata": {},
     "output_type": "execute_result"
    }
   ],
   "source": [
    "import numba as nb\n",
    "\n",
    "\n",
    "@nb.njit # type: ignore\n",
    "def flip_mov(vflip: bool, hflip: bool, y_dim: int, x_dim: int, mov: NDArray[np.uint8]) -> None:\n",
    "    if vflip:\n",
    "        mov[:, 0] = y_dim - mov[:, 0] - 1\n",
    "    if hflip:\n",
    "        mov[:, 1] = x_dim - mov[:, 1] - 1\n",
    "\n",
    "\n",
    "mov = np.array(([0, 0], [1, 1]), dtype=np.uint8)\n",
    "flip_mov(False, True, 9, 9, mov)\n",
    "mov"
   ]
  }
 ],
 "metadata": {
  "kernelspec": {
   "display_name": "jor",
   "language": "python",
   "name": "python3"
  },
  "language_info": {
   "codemirror_mode": {
    "name": "ipython",
    "version": 3
   },
   "file_extension": ".py",
   "mimetype": "text/x-python",
   "name": "python",
   "nbconvert_exporter": "python",
   "pygments_lexer": "ipython3",
   "version": "3.12.6"
  }
 },
 "nbformat": 4,
 "nbformat_minor": 2
}
