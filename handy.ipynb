{
 "cells": [
  {
   "cell_type": "code",
   "execution_count": 1,
   "metadata": {},
   "outputs": [],
   "source": [
    "from numba import njit\n",
    "import numpy as np\n",
    "\n",
    "def logging_jit(func):\n",
    "    def inner(*args, **kwargs):\n",
    "        origsigs = set(func.signatures)\n",
    "        result = func(*args, **kwargs)\n",
    "        newsigs = set(func.signatures)\n",
    "        if newsigs != origsigs:\n",
    "            new = (newsigs ^ origsigs).pop()\n",
    "             # PUT YOUR LOGGER HERE!\n",
    "            print(\"Numba compiled for signature: {}\".format(new))\n",
    "        return result\n",
    "    return inner"
   ]
  },
  {
   "cell_type": "code",
   "execution_count": 2,
   "metadata": {},
   "outputs": [
    {
     "name": "stdout",
     "output_type": "stream",
     "text": [
      "Numba compiled for signature: (int64,)\n",
      "5\n",
      "6\n",
      "Numba compiled for signature: (float64,)\n",
      "7.7\n"
     ]
    }
   ],
   "source": [
    "@logging_jit\n",
    "@njit\n",
    "def foo(a):\n",
    "    return a + 1\n",
    "\n",
    "print(foo(4)) # first compile and run for int\n",
    "print(foo(5)) # second is just a run, int sig is cached\n",
    "print(foo(6.7)) # third is a compile and run for float"
   ]
  }
 ],
 "metadata": {
  "kernelspec": {
   "display_name": "jor",
   "language": "python",
   "name": "python3"
  },
  "language_info": {
   "codemirror_mode": {
    "name": "ipython",
    "version": 3
   },
   "file_extension": ".py",
   "mimetype": "text/x-python",
   "name": "python",
   "nbconvert_exporter": "python",
   "pygments_lexer": "ipython3",
   "version": "3.10.14"
  }
 },
 "nbformat": 4,
 "nbformat_minor": 2
}
