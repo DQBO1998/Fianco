{
 "cells": [
  {
   "cell_type": "code",
   "execution_count": 6,
   "metadata": {},
   "outputs": [
    {
     "data": {
      "text/plain": [
       "2"
      ]
     },
     "execution_count": 6,
     "metadata": {},
     "output_type": "execute_result"
    }
   ],
   "source": [
    "import numba as nb\n",
    "import numpy as np\n",
    "\n",
    "\n",
    "@nb.jit(nopython=True)\n",
    "def fn(x, y):\n",
    "    return max(x, y)\n",
    "\n",
    "fn(1, 2)"
   ]
  }
 ],
 "metadata": {
  "kernelspec": {
   "display_name": "jor",
   "language": "python",
   "name": "python3"
  },
  "language_info": {
   "codemirror_mode": {
    "name": "ipython",
    "version": 3
   },
   "file_extension": ".py",
   "mimetype": "text/x-python",
   "name": "python",
   "nbconvert_exporter": "python",
   "pygments_lexer": "ipython3",
   "version": "3.10.14"
  }
 },
 "nbformat": 4,
 "nbformat_minor": 2
}
