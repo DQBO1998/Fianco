{
 "cells": [
  {
   "cell_type": "code",
   "execution_count": 3,
   "metadata": {},
   "outputs": [
    {
     "name": "stdout",
     "output_type": "stream",
     "text": [
      "x: 0b101\n",
      "y: 0b0\n",
      "Result: 0b101\n"
     ]
    }
   ],
   "source": [
    "from numpy.typing import NDArray\n",
    "from typing import Any\n",
    "from fianco import *\n",
    "\n",
    "import numpy as np\n",
    "\n",
    "def shift_bits(x: int, y: int, num_bits: int, start_pos: int) -> NDArray[Any]:\n",
    "    # Create a mask to extract the bits from x\n",
    "    mask = ((1 << num_bits) - 1) << start_pos\n",
    "    \n",
    "    # Extract the bits from x\n",
    "    bits_to_shift = (x & mask) >> start_pos\n",
    "    \n",
    "    # Clear the corresponding bits in y\n",
    "    y &= ~(((1 << num_bits) - 1) << start_pos)\n",
    "    \n",
    "    # Combine the extracted bits with y\n",
    "    y |= bits_to_shift << start_pos\n",
    "    \n",
    "    return y\n",
    "\n",
    "# Example usage\n",
    "x = 5\n",
    "y = 0b0\n",
    "\n",
    "# Shift 4 bits from x to y, starting at position 4\n",
    "result = shift_bits(x, y, 4, 0)\n",
    "\n",
    "print(f\"x: {bin(x)}\")\n",
    "print(f\"y: {bin(y)}\")\n",
    "print(f\"Result: {bin(result)}\")\n"
   ]
  },
  {
   "cell_type": "code",
   "execution_count": 4,
   "metadata": {},
   "outputs": [
    {
     "ename": "NameError",
     "evalue": "name 'TT' is not defined",
     "output_type": "error",
     "traceback": [
      "\u001b[1;31m---------------------------------------------------------------------------\u001b[0m",
      "\u001b[1;31mNameError\u001b[0m                                 Traceback (most recent call last)",
      "Cell \u001b[1;32mIn[4], line 29\u001b[0m\n\u001b[0;32m     25\u001b[0m                 wrt \u001b[38;5;241m=\u001b[39m brd[\u001b[38;5;241m0\u001b[39m, y, x]\n\u001b[0;32m     26\u001b[0m                 hsh \u001b[38;5;241m^\u001b[39m\u001b[38;5;241m=\u001b[39m r_mat[y, x, wrt]\n\u001b[1;32m---> 29\u001b[0m \u001b[38;5;28;01mdef\u001b[39;00m \u001b[38;5;21mrtt\u001b[39m(idx: \u001b[38;5;28mint\u001b[39m, tt: TT) \u001b[38;5;241m-\u001b[39m\u001b[38;5;241m>\u001b[39m NDArray[Any]:\n\u001b[0;32m     30\u001b[0m     \u001b[38;5;241m.\u001b[39m\u001b[38;5;241m.\u001b[39m\u001b[38;5;241m.\u001b[39m\n\u001b[0;32m     33\u001b[0m \u001b[38;5;28;01mdef\u001b[39;00m \u001b[38;5;21mwtt\u001b[39m(idx: \u001b[38;5;28mint\u001b[39m, dta: NDArray[Any], tt: TT) \u001b[38;5;241m-\u001b[39m\u001b[38;5;241m>\u001b[39m \u001b[38;5;28mbool\u001b[39m:\n",
      "\u001b[1;31mNameError\u001b[0m: name 'TT' is not defined"
     ]
    }
   ],
   "source": [
    "LOCK = 0\n",
    "MOVE = 1\n",
    "SCORE = 2\n",
    "FLAG = 3\n",
    "HEIGHT = 4\n",
    "\n",
    "\n",
    "def make_tt(size: int, rnd: np.random.Generator) -> tuple[Any, Any]:\n",
    "    tt_lck = np.zeros((size,), dtype=np.uint64) # hash key\n",
    "    tt_mov = np.zeros((size, 2, 2), dtype=np.uint8) # (type) number\n",
    "    tt_scr = np.zeros((size,), dtype=np.float16) # score\n",
    "    tt_flg = np.zeros((size,), dtype=np.uint8) # type of score\n",
    "    tt_hgt = np.zeros((size,), dtype=np.uint64) # depth recorded\n",
    "    tt_wrt = np.zeros((size,), dtype=np.bool_) # who moved?\n",
    "    r_mat = rnd.integers(0, np.iinfo(tt_lck.dtype).max, (9, 9, 2)) # random integers\n",
    "    tt = (tt_lck, tt_mov, tt_scr, tt_flg, tt_hgt, tt_wrt)\n",
    "    return r_mat, tt\n",
    "\n",
    "\n",
    "def enc_brd(brd: Mat, r_mat: NDArray[Any], tt: tuple[NDArray[Any], ...]) -> int:\n",
    "    hsh = 0\n",
    "    for y in range(brd.shape[0]):\n",
    "        for x in range(brd.shape[1]):\n",
    "            if np.any(brd[:, y, x]):\n",
    "                wrt = brd[0, y, x]\n",
    "                hsh ^= r_mat[y, x, wrt]\n",
    "\n",
    "\n",
    "def rtt(idx: int, tt: TT) -> NDArray[Any]:\n",
    "    ...\n",
    "\n",
    "\n",
    "def wtt(idx: int, dta: NDArray[Any], tt: TT) -> bool:\n",
    "    ..."
   ]
  },
  {
   "cell_type": "code",
   "execution_count": 30,
   "metadata": {},
   "outputs": [
    {
     "data": {
      "text/plain": [
       "4294967295"
      ]
     },
     "execution_count": 30,
     "metadata": {},
     "output_type": "execute_result"
    }
   ],
   "source": [
    "from numpy import iinfo\n",
    "\n",
    "iinfo(np.uint32).max"
   ]
  },
  {
   "cell_type": "code",
   "execution_count": 10,
   "metadata": {},
   "outputs": [],
   "source": [
    "from numba.experimental import jitclass\n",
    "\n",
    "import numba as nb\n",
    "\n",
    "@jitclass([('in_root', nb.bool),\n",
    "           ('for_player', nb.uint8),\n",
    "           ('end_state', nb.int8),\n",
    "           ('board_state', nb.int8),\n",
    "           ('move_from', nb.uint8),\n",
    "           ('move_to', nb.uint8),\n",
    "           ('depth', nb.uint16),\n",
    "           ('alpha', nb.int16),\n",
    "           ('beta', nb.int16)]) # type: ignore\n",
    "class SearchState:\n",
    "    in_root: bool\n",
    "    \n",
    "    for_player: int\n",
    "    \n",
    "    end_state: Mat\n",
    "    board_state: Mat\n",
    "    \n",
    "    move_from: NDArray[number]\n",
    "    move_to: NDArray[number]\n",
    "\n",
    "    depth: float\n",
    "    alpha: float\n",
    "    beta: float\n",
    "\n",
    "    def __init__(self) -> None:\n",
    "        self.in_root = True\n",
    "        self.for_player = 1\n",
    "        self.end_state = np.empty((2, 9, 9), dtype=np.int16) # type: ignore\n",
    "        self.board_state = np.empty((2, 9, 9), dtype=np.int16) # type: ignore\n",
    "        self.move_from = np.empty((2, 9, 9), dtype=np.uint16) # type: ignore\n",
    "        self.move_to = np.empty((2, 9, 9), dtype=np.uint16) # type: ignore\n",
    "        self.depth = 0\n",
    "        self.alpha = 0\n",
    "        self.beta = 0\n",
    "\n",
    "sst = SearchState()"
   ]
  }
 ],
 "metadata": {
  "kernelspec": {
   "display_name": "fnc",
   "language": "python",
   "name": "python3"
  },
  "language_info": {
   "codemirror_mode": {
    "name": "ipython",
    "version": 3
   },
   "file_extension": ".py",
   "mimetype": "text/x-python",
   "name": "python",
   "nbconvert_exporter": "python",
   "pygments_lexer": "ipython3",
   "version": "3.12.6"
  }
 },
 "nbformat": 4,
 "nbformat_minor": 2
}
