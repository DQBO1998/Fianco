{
 "cells": [
  {
   "cell_type": "code",
   "execution_count": 9,
   "metadata": {},
   "outputs": [
    {
     "name": "stdout",
     "output_type": "stream",
     "text": [
      "(2, 3, 3)\n",
      "(2, 2, 2, 2, 2)\n"
     ]
    },
    {
     "data": {
      "text/plain": [
       "array([[[[[0, 0],\n",
       "          [1, 1]],\n",
       "\n",
       "         [[0, 0],\n",
       "          [1, 1]]],\n",
       "\n",
       "\n",
       "        [[[1, 1],\n",
       "          [2, 2]],\n",
       "\n",
       "         [[1, 1],\n",
       "          [2, 2]]]],\n",
       "\n",
       "\n",
       "\n",
       "       [[[[5, 5],\n",
       "          [6, 6]],\n",
       "\n",
       "         [[5, 5],\n",
       "          [6, 6]]],\n",
       "\n",
       "\n",
       "        [[[6, 6],\n",
       "          [7, 7]],\n",
       "\n",
       "         [[6, 6],\n",
       "          [7, 7]]]]])"
      ]
     },
     "execution_count": 9,
     "metadata": {},
     "output_type": "execute_result"
    }
   ],
   "source": [
    "from numpy.lib.stride_tricks import sliding_window_view as swv\n",
    "\n",
    "import numpy as np\n",
    "\n",
    "M0 = np.array([[0, 0, 0], [1, 1, 1], [2, 2, 2]])\n",
    "M1 = np.array([[5, 5, 5], [6, 6, 6], [7, 7, 7]])\n",
    "M = np.stack((M0, M1), axis=0)\n",
    "print(M.shape)\n",
    "O = swv(M, (2, 2), [1, 2])\n",
    "print(O.shape)\n",
    "O"
   ]
  },
  {
   "cell_type": "code",
   "execution_count": null,
   "metadata": {},
   "outputs": [],
   "source": [
    "def conv2d(img, )"
   ]
  }
 ],
 "metadata": {
  "kernelspec": {
   "display_name": "jor",
   "language": "python",
   "name": "python3"
  },
  "language_info": {
   "codemirror_mode": {
    "name": "ipython",
    "version": 3
   },
   "file_extension": ".py",
   "mimetype": "text/x-python",
   "name": "python",
   "nbconvert_exporter": "python",
   "pygments_lexer": "ipython3",
   "version": "3.10.14"
  }
 },
 "nbformat": 4,
 "nbformat_minor": 2
}
